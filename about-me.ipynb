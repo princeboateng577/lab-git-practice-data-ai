{
 "cells": [
  {
   "cell_type": "markdown",
   "metadata": {},
   "source": [
    "## About Me Lab: AI Engineering, Data Analytics & Data Science\n",
    "\n",
    "In this notebook, you'll write a short introduction about yourself using Python!\n",
    "\n",
    "### Instructions:\n",
    "- Fill in the variables below with your details.\n",
    "- Run the cell to print your introduction.\n",
    "\n",
    "### What to Include:\n",
    "- Your name.\n",
    "- Why you're interested in AI Engineering, Data Analytics or Data Science.\n",
    "- A fun fact about yourself or a goal for this course.\n"
   ]
  },
  {
   "cell_type": "code",
   "execution_count": 11,
   "metadata": {},
   "outputs": [
    {
     "name": "stdout",
     "output_type": "stream",
     "text": [
      "Hi! My name is Prince Boateng. Im excited to learn because I find it incredibly rewarding to transform numbers into actionable strategies that can drive progress in various fields.. A fun fact about me is: I love solving puzzles, whether it's a jigsaw puzzle or a tricky data problem. I find it incredibly satisfying to piece together different parts of a challenge to uncover the bigger picture..\n"
     ]
    }
   ],
   "source": [
    "# About Me\n",
    "# Please fill in the following details.\n",
    "\n",
    "name = \"Prince Boateng\"\n",
    "reason = \"I find it incredibly rewarding to transform numbers into actionable strategies that can drive progress in various fields.\"\n",
    "\n",
    "\"What excites me most is the opportunity to solve real-world problems by identifying patterns, trends, and outliers that might otherwise go unnoticed. Whether its optimizing business operations, predicting customer behavior, or tackling global challenges like climate change, data analytics provides tools to make a tangible impact.\"\n",
    "\n",
    "\n",
    "fun_fact = \"I love solving puzzles, whether it's a jigsaw puzzle or a tricky data problem. I find it incredibly satisfying to piece together different parts of a challenge to uncover the bigger picture.\"\n",
    "\n",
    "print(f\"Hi! My name is {name}. Im excited to learn because {reason}. A fun fact about me is: {fun_fact}.\")"
   ]
  }
 ],
 "metadata": {
  "kernelspec": {
   "display_name": "Python 3",
   "language": "python",
   "name": "python3"
  },
  "language_info": {
   "codemirror_mode": {
    "name": "ipython",
    "version": 3
   },
   "file_extension": ".py",
   "mimetype": "text/x-python",
   "name": "python",
   "nbconvert_exporter": "python",
   "pygments_lexer": "ipython3",
   "version": "3.11.3"
  }
 },
 "nbformat": 4,
 "nbformat_minor": 2
}
